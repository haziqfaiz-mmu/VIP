{
 "cells": [
  {
   "cell_type": "code",
   "execution_count": 1,
   "metadata": {},
   "outputs": [],
   "source": [
    "import numpy as np\n",
    "import cv2\n",
    "import pandas as pd\n",
    "\n",
    "import pickle\n",
    "from matplotlib import pyplot as pyplot\n",
    "import os\n",
    "\n",
    "from skimage.filters import roberts,sobel,scharr, prewitt\n",
    "from scipy import ndimage as nd"
   ]
  },
  {
   "cell_type": "code",
   "execution_count": 38,
   "metadata": {},
   "outputs": [],
   "source": [
    "def loadImage(img_name):\n",
    "\n",
    "    img_path = \"train_images/\" + img_name\n",
    "    input_img=cv2.imread(img_path,0)\n",
    "    temp_df = pd.DataFrame(columns=[\"Image_Name\",\"Pixel_Values\"])\n",
    "\n",
    "    #input_img=cv2.resize(input_img, (1050, 800))\n",
    "\n",
    "    #Check if the image is RGB or grey and convert to grey if they are RGB\n",
    "    #if input_img.ndim==3 and input_img.shape[-1]==3:\n",
    "    #    img=cv2.cvtColor(input_img,cv2.COLOR_RGB2GRAY)\n",
    "    #elif input_img.dim==2:\n",
    "    #    img=input_img\n",
    "    #else:\n",
    "    #    raise Exception(\"Only work with RGB and grayscale images\")\n",
    "    \n",
    "    ###################################################################################################################################\n",
    "    # Add data into the dataframe\n",
    "    # The first feature is the pixel values\n",
    "\n",
    "    pixel_values=input_img.reshape(-1)\n",
    "    temp_df[\"Pixel_Values\"] = pixel_values\n",
    "    temp_df[\"Image_Name\"] = [img_name]* len(temp_df)\n",
    "\n",
    "    return temp_df"
   ]
  },
  {
   "cell_type": "code",
   "execution_count": 34,
   "metadata": {},
   "outputs": [],
   "source": [
    "image_dataset=pd.DataFrame(columns=[\"Image_Name\",\"Pixel_Values\"])\n"
   ]
  },
  {
   "cell_type": "code",
   "execution_count": 39,
   "metadata": {},
   "outputs": [],
   "source": [
    "image_dataset = pd.concat([image_dataset,loadImage(\"SL_001.jpg\")],ignore_index=True)"
   ]
  },
  {
   "cell_type": "code",
   "execution_count": 40,
   "metadata": {},
   "outputs": [
    {
     "data": {
      "text/html": [
       "<div>\n",
       "<style scoped>\n",
       "    .dataframe tbody tr th:only-of-type {\n",
       "        vertical-align: middle;\n",
       "    }\n",
       "\n",
       "    .dataframe tbody tr th {\n",
       "        vertical-align: top;\n",
       "    }\n",
       "\n",
       "    .dataframe thead th {\n",
       "        text-align: right;\n",
       "    }\n",
       "</style>\n",
       "<table border=\"1\" class=\"dataframe\">\n",
       "  <thead>\n",
       "    <tr style=\"text-align: right;\">\n",
       "      <th></th>\n",
       "      <th>Image_Name</th>\n",
       "      <th>Pixel_Values</th>\n",
       "    </tr>\n",
       "  </thead>\n",
       "  <tbody>\n",
       "    <tr>\n",
       "      <th>0</th>\n",
       "      <td>SL_001.jpg</td>\n",
       "      <td>152</td>\n",
       "    </tr>\n",
       "    <tr>\n",
       "      <th>1</th>\n",
       "      <td>SL_001.jpg</td>\n",
       "      <td>150</td>\n",
       "    </tr>\n",
       "    <tr>\n",
       "      <th>2</th>\n",
       "      <td>SL_001.jpg</td>\n",
       "      <td>155</td>\n",
       "    </tr>\n",
       "    <tr>\n",
       "      <th>3</th>\n",
       "      <td>SL_001.jpg</td>\n",
       "      <td>156</td>\n",
       "    </tr>\n",
       "    <tr>\n",
       "      <th>4</th>\n",
       "      <td>SL_001.jpg</td>\n",
       "      <td>152</td>\n",
       "    </tr>\n",
       "    <tr>\n",
       "      <th>...</th>\n",
       "      <td>...</td>\n",
       "      <td>...</td>\n",
       "    </tr>\n",
       "    <tr>\n",
       "      <th>786427</th>\n",
       "      <td>SL_001.jpg</td>\n",
       "      <td>188</td>\n",
       "    </tr>\n",
       "    <tr>\n",
       "      <th>786428</th>\n",
       "      <td>SL_001.jpg</td>\n",
       "      <td>188</td>\n",
       "    </tr>\n",
       "    <tr>\n",
       "      <th>786429</th>\n",
       "      <td>SL_001.jpg</td>\n",
       "      <td>188</td>\n",
       "    </tr>\n",
       "    <tr>\n",
       "      <th>786430</th>\n",
       "      <td>SL_001.jpg</td>\n",
       "      <td>188</td>\n",
       "    </tr>\n",
       "    <tr>\n",
       "      <th>786431</th>\n",
       "      <td>SL_001.jpg</td>\n",
       "      <td>188</td>\n",
       "    </tr>\n",
       "  </tbody>\n",
       "</table>\n",
       "<p>786432 rows × 2 columns</p>\n",
       "</div>"
      ],
      "text/plain": [
       "        Image_Name Pixel_Values\n",
       "0       SL_001.jpg          152\n",
       "1       SL_001.jpg          150\n",
       "2       SL_001.jpg          155\n",
       "3       SL_001.jpg          156\n",
       "4       SL_001.jpg          152\n",
       "...            ...          ...\n",
       "786427  SL_001.jpg          188\n",
       "786428  SL_001.jpg          188\n",
       "786429  SL_001.jpg          188\n",
       "786430  SL_001.jpg          188\n",
       "786431  SL_001.jpg          188\n",
       "\n",
       "[786432 rows x 2 columns]"
      ]
     },
     "execution_count": 40,
     "metadata": {},
     "output_type": "execute_result"
    }
   ],
   "source": [
    "image_dataset"
   ]
  },
  {
   "cell_type": "code",
   "execution_count": 41,
   "metadata": {},
   "outputs": [],
   "source": [
    "image_dataset = pd.concat([image_dataset,loadImage(\"SL_002.jpg\")],ignore_index=True)"
   ]
  },
  {
   "cell_type": "code",
   "execution_count": 42,
   "metadata": {},
   "outputs": [
    {
     "data": {
      "text/html": [
       "<div>\n",
       "<style scoped>\n",
       "    .dataframe tbody tr th:only-of-type {\n",
       "        vertical-align: middle;\n",
       "    }\n",
       "\n",
       "    .dataframe tbody tr th {\n",
       "        vertical-align: top;\n",
       "    }\n",
       "\n",
       "    .dataframe thead th {\n",
       "        text-align: right;\n",
       "    }\n",
       "</style>\n",
       "<table border=\"1\" class=\"dataframe\">\n",
       "  <thead>\n",
       "    <tr style=\"text-align: right;\">\n",
       "      <th></th>\n",
       "      <th>Image_Name</th>\n",
       "      <th>Pixel_Values</th>\n",
       "    </tr>\n",
       "  </thead>\n",
       "  <tbody>\n",
       "    <tr>\n",
       "      <th>0</th>\n",
       "      <td>SL_001.jpg</td>\n",
       "      <td>152</td>\n",
       "    </tr>\n",
       "    <tr>\n",
       "      <th>1</th>\n",
       "      <td>SL_001.jpg</td>\n",
       "      <td>150</td>\n",
       "    </tr>\n",
       "    <tr>\n",
       "      <th>2</th>\n",
       "      <td>SL_001.jpg</td>\n",
       "      <td>155</td>\n",
       "    </tr>\n",
       "    <tr>\n",
       "      <th>3</th>\n",
       "      <td>SL_001.jpg</td>\n",
       "      <td>156</td>\n",
       "    </tr>\n",
       "    <tr>\n",
       "      <th>4</th>\n",
       "      <td>SL_001.jpg</td>\n",
       "      <td>152</td>\n",
       "    </tr>\n",
       "    <tr>\n",
       "      <th>...</th>\n",
       "      <td>...</td>\n",
       "      <td>...</td>\n",
       "    </tr>\n",
       "    <tr>\n",
       "      <th>1570301</th>\n",
       "      <td>SL_002.jpg</td>\n",
       "      <td>250</td>\n",
       "    </tr>\n",
       "    <tr>\n",
       "      <th>1570302</th>\n",
       "      <td>SL_002.jpg</td>\n",
       "      <td>250</td>\n",
       "    </tr>\n",
       "    <tr>\n",
       "      <th>1570303</th>\n",
       "      <td>SL_002.jpg</td>\n",
       "      <td>253</td>\n",
       "    </tr>\n",
       "    <tr>\n",
       "      <th>1570304</th>\n",
       "      <td>SL_002.jpg</td>\n",
       "      <td>242</td>\n",
       "    </tr>\n",
       "    <tr>\n",
       "      <th>1570305</th>\n",
       "      <td>SL_002.jpg</td>\n",
       "      <td>255</td>\n",
       "    </tr>\n",
       "  </tbody>\n",
       "</table>\n",
       "<p>1570306 rows × 2 columns</p>\n",
       "</div>"
      ],
      "text/plain": [
       "         Image_Name Pixel_Values\n",
       "0        SL_001.jpg          152\n",
       "1        SL_001.jpg          150\n",
       "2        SL_001.jpg          155\n",
       "3        SL_001.jpg          156\n",
       "4        SL_001.jpg          152\n",
       "...             ...          ...\n",
       "1570301  SL_002.jpg          250\n",
       "1570302  SL_002.jpg          250\n",
       "1570303  SL_002.jpg          253\n",
       "1570304  SL_002.jpg          242\n",
       "1570305  SL_002.jpg          255\n",
       "\n",
       "[1570306 rows x 2 columns]"
      ]
     },
     "execution_count": 42,
     "metadata": {},
     "output_type": "execute_result"
    }
   ],
   "source": [
    "image_dataset"
   ]
  },
  {
   "cell_type": "code",
   "execution_count": 44,
   "metadata": {},
   "outputs": [
    {
     "ename": "",
     "evalue": "",
     "output_type": "error",
     "traceback": [
      "\u001b[1;31mThe Kernel crashed while executing code in the the current cell or a previous cell. Please review the code in the cell(s) to identify a possible cause of the failure. Click <a href='https://aka.ms/vscodeJupyterKernelCrash'>here</a> for more info. View Jupyter <a href='command:jupyter.viewOutput'>log</a> for further details."
     ]
    }
   ],
   "source": [
    "img_path = \"train_images/\"\n",
    "image_dataset=pd.DataFrame(columns=[\"Image_Name\",\"Pixel_Values\"])\n",
    "for img_name in sorted(os.listdir(img_path)):\n",
    "    #print(img_name)\n",
    "    image_dataset = pd.concat([image_dataset,loadImage(img_name)],ignore_index=True)"
   ]
  },
  {
   "cell_type": "code",
   "execution_count": null,
   "metadata": {},
   "outputs": [],
   "source": []
  }
 ],
 "metadata": {
  "kernelspec": {
   "display_name": "VIP",
   "language": "python",
   "name": "vip"
  },
  "language_info": {
   "codemirror_mode": {
    "name": "ipython",
    "version": 3
   },
   "file_extension": ".py",
   "mimetype": "text/x-python",
   "name": "python",
   "nbconvert_exporter": "python",
   "pygments_lexer": "ipython3",
   "version": "3.11.6"
  }
 },
 "nbformat": 4,
 "nbformat_minor": 2
}
