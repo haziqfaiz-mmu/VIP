{
 "cells": [
  {
   "cell_type": "code",
   "execution_count": null,
   "metadata": {},
   "outputs": [],
   "source": [
    "import numpy as np\n",
    "import cv2\n",
    "import pandas as pd\n",
    "\n",
    "import pickle\n",
    "from matplotlib import pyplot as pyplot\n",
    "import os"
   ]
  },
  {
   "cell_type": "markdown",
   "metadata": {},
   "source": [
    "1. Read Training Images"
   ]
  },
  {
   "cell_type": "code",
   "execution_count": null,
   "metadata": {},
   "outputs": [],
   "source": [
    "image_dataset=pd.DataFrame(columns=[\"Image_Name\",\"Pixel_Values\"])\n",
    "\n",
    "img_path = \"train_images/\"\n",
    "for img_name in sorted(os.listdir(img_path)):\n",
    "    print(img_name)\n",
    "\n",
    "    #df=pd.DataFrame()\n",
    "    #df[\"Image_Name\"] = img_name\n",
    "\n",
    "    input_img=cv2.imread(img_path+img_name)\n",
    "\n",
    "    #Check if the image is RGB or grey and convert to grey if they are RGB\n",
    "    if input_img.ndim==3 and input_img.shape[-1]==3:\n",
    "        img=cv2.cvtColor(input_img,cv2.COLOR_RGB2GRAY)\n",
    "    elif input_img.dim==2:\n",
    "        img=input_img\n",
    "    else:\n",
    "        raise Exception(\"Only work with RGB and grayscale images\")\n",
    "    \n",
    "    ###################################################################################################################################\n",
    "    # Add data into the dataframe\n",
    "    # The first feature is the pixel values\n",
    "\n",
    "    pixel_values=img.reshape(-1)\n",
    "    #df[\"Pixel_Values\"] = pixel_values\n",
    "    new_row={\"Image_Name\":img_name,\"Pixel_Values\":pixel_values}\n",
    "    image_dataset=pd.concat([image_dataset,pd.DataFrame([new_row])],ignore_index=True)"
   ]
  },
  {
   "cell_type": "markdown",
   "metadata": {},
   "source": [
    "2. Generate Gabor Features"
   ]
  },
  {
   "cell_type": "code",
   "execution_count": null,
   "metadata": {},
   "outputs": [],
   "source": [
    "gabor_df=pd.DataFrame()\n",
    "gabor_df[\"Image_Name\"]=''\n",
    "for index,row in image_dataset.iterrows():\n",
    "    \n",
    "    img_path = \"train_images/\"\n",
    "    img=cv2.imread(img_path+row[\"Image_Name\"])\n",
    "    \n",
    "    num=1\n",
    "    kernels=[]\n",
    "    filtered_img_arr=[row[\"Image_Name\"]]\n",
    "\n",
    "    for theta in range(2):\n",
    "        theta = theta/4. *np.pi\n",
    "        for sigma in (1,3):\n",
    "            for lamda in np.arange(0,np.pi,np.pi/4):\n",
    "                for gamma in (0.005,0.5):\n",
    "                    gabor_label = 'Gabor'+str(num) #Label Gabor columns as Gabor1, Gabor2...\n",
    "                    if gabor_label not in gabor_df.columns:\n",
    "                        gabor_df[gabor_label]=''\n",
    "                    ksize=9\n",
    "                    kernel = cv2.getGaborKernel((ksize,ksize),sigma,theta,lamda,gamma,0,ktype=cv2.CV_32F)\n",
    "                    kernels.append(kernel)\n",
    "                    \n",
    "                    #Filter image and add values to the column\n",
    "                    fimg=cv2.filter2D(img,cv2.CV_8UC3,kernel)\n",
    "                    filtered_img=fimg.reshape(-1)\n",
    "                    #row[gabor_label]=filtered_img\n",
    "                    filtered_img_arr.append(filtered_img)\n",
    "                    print(gabor_label,': theta=',theta,': sigma=',sigma,': lamda=',lamda,': gamma=',gamma)\n",
    "                    num+=1\n",
    "\n",
    "    gabor_df.loc[len(gabor_df)]=filtered_img_arr\n",
    "\n",
    "image_dataset=image_dataset.merge(gabor_df,how='left',on='Image_Name')"
   ]
  },
  {
   "cell_type": "markdown",
   "metadata": {},
   "source": [
    "\n",
    "2. Generate SIFT features"
   ]
  },
  {
   "cell_type": "code",
   "execution_count": null,
   "metadata": {},
   "outputs": [],
   "source": []
  }
 ],
 "metadata": {
  "kernelspec": {
   "display_name": "VIP",
   "language": "python",
   "name": "vip"
  },
  "language_info": {
   "codemirror_mode": {
    "name": "ipython",
    "version": 3
   },
   "file_extension": ".py",
   "mimetype": "text/x-python",
   "name": "python",
   "nbconvert_exporter": "python",
   "pygments_lexer": "ipython3",
   "version": "3.11.6"
  }
 },
 "nbformat": 4,
 "nbformat_minor": 2
}
